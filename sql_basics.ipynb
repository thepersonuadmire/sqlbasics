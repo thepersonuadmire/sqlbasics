{
  "nbformat": 4,
  "nbformat_minor": 0,
  "metadata": {
    "colab": {
      "provenance": [],
      "toc_visible": true,
      "authorship_tag": "ABX9TyNgt34K9fU9hjxMVZUwWRqF",
      "include_colab_link": true
    },
    "kernelspec": {
      "name": "python3",
      "display_name": "Python 3"
    },
    "language_info": {
      "name": "python"
    }
  },
  "cells": [
    {
      "cell_type": "markdown",
      "metadata": {
        "id": "view-in-github",
        "colab_type": "text"
      },
      "source": [
        "<a href=\"https://colab.research.google.com/github/thepersonuadmire/sqlbasics/blob/main/sql_basics.ipynb\" target=\"_parent\"><img src=\"https://colab.research.google.com/assets/colab-badge.svg\" alt=\"Open In Colab\"/></a>"
      ]
    },
    {
      "cell_type": "markdown",
      "source": [
        "1."
      ],
      "metadata": {
        "id": "m0PK_HEEUnKj"
      }
    },
    {
      "cell_type": "code",
      "source": [
        "CREATE TABLE employees (\n",
        "    emp_id INT NOT NULL PRIMARY KEY,\n",
        "    emp_name TEXT NOT NULL,\n",
        "    age INT CHECK (age >= 18),\n",
        "    email TEXT UNIQUE,\n",
        "    salary DECIMAL DEFAULT 30000\n",
        ");\n"
      ],
      "metadata": {
        "id": "l5TwIAygUoLT"
      },
      "execution_count": null,
      "outputs": []
    },
    {
      "cell_type": "markdown",
      "source": [
        "2. Constraints in SQL help ensure data integrity and accuracy by enforcing rules on the data stored in tables.\n",
        "Some common constraints are:\n",
        "\n",
        "NOT NULL → Ensures a column cannot have NULL values.\n",
        "Example: emp_name TEXT NOT NULL\n",
        "\n",
        "PRIMARY KEY → Uniquely identifies each record and cannot be NULL.\n",
        "Example: emp_id INT PRIMARY KEY\n",
        "\n",
        "UNIQUE → Ensures all values in a column are different.\n",
        "Example: email TEXT UNIQUE\n",
        "\n",
        "CHECK → Restricts values based on a condition.\n",
        "Example: age INT CHECK (age >= 18)\n",
        "\n",
        "DEFAULT → Assigns a default value if no value is provided.\n",
        "Example: salary DECIMAL DEFAULT 30000\n",
        "\n",
        "FOREIGN KEY → Links a column to another table’s primary key.\n",
        "Example: FOREIGN KEY (dept_id) REFERENCES departments(dept_id)"
      ],
      "metadata": {
        "id": "EdvEJPAwUray"
      }
    },
    {
      "cell_type": "markdown",
      "source": [
        "3. The NOT NULL constraint ensures that essential data is always present.\n",
        "\n",
        "Primary keys cannot contain NULL values because they uniquely identify each record. If a primary key were NULL, it wouldn't be unique."
      ],
      "metadata": {
        "id": "SF7UbHTrVICz"
      }
    },
    {
      "cell_type": "markdown",
      "source": [
        "4. Adding a Constraint"
      ],
      "metadata": {
        "id": "AICFAde9VRcw"
      }
    },
    {
      "cell_type": "code",
      "source": [
        "ALTER TABLE employees ADD CONSTRAINT chk_salary CHECK (salary > 20000);\n"
      ],
      "metadata": {
        "id": "yDg1yxYcVTQk"
      },
      "execution_count": null,
      "outputs": []
    },
    {
      "cell_type": "markdown",
      "source": [
        "Removing a Constraint"
      ],
      "metadata": {
        "id": "DIHQYDTuVY1i"
      }
    },
    {
      "cell_type": "code",
      "source": [
        "ALTER TABLE employees DROP CONSTRAINT chk_salary;\n"
      ],
      "metadata": {
        "id": "e8CObPakVbS1"
      },
      "execution_count": null,
      "outputs": []
    },
    {
      "cell_type": "markdown",
      "source": [
        "5. If an inserted or updated value does not meet constraints, an error occurs.\n",
        "Example Error\n",
        "\n",
        "Trying to insert an employee with age 15:"
      ],
      "metadata": {
        "id": "53zURhKgVike"
      }
    },
    {
      "cell_type": "code",
      "source": [
        "INSERT INTO employees (emp_id, emp_name, age, email, salary)\n",
        "VALUES (1, 'John Doe', 15, 'john@example.com', 50000);\n"
      ],
      "metadata": {
        "id": "50L_2fLBVnFi"
      },
      "execution_count": null,
      "outputs": []
    },
    {
      "cell_type": "markdown",
      "source": [
        "Error: CHECK constraint failed: employees"
      ],
      "metadata": {
        "id": "AGDnLyYxVqFJ"
      }
    },
    {
      "cell_type": "markdown",
      "source": [
        "6."
      ],
      "metadata": {
        "id": "eGVRJzznV2RL"
      }
    },
    {
      "cell_type": "code",
      "source": [
        "ALTER TABLE products ADD CONSTRAINT pk_product PRIMARY KEY (product_id);\n",
        "ALTER TABLE products ALTER COLUMN price SET DEFAULT 50.00;\n"
      ],
      "metadata": {
        "id": "MTv-yx_OV3FH"
      },
      "execution_count": null,
      "outputs": []
    },
    {
      "cell_type": "markdown",
      "source": [
        "7."
      ],
      "metadata": {
        "id": "HEslpdcYV8jG"
      }
    },
    {
      "cell_type": "code",
      "source": [
        "SELECT students.student_name, classes.class_name\n",
        "FROM students\n",
        "INNER JOIN classes ON students.class_id = classes.class_id;\n"
      ],
      "metadata": {
        "id": "oLWjU1gBV9d9"
      },
      "execution_count": null,
      "outputs": []
    },
    {
      "cell_type": "markdown",
      "source": [
        "8."
      ],
      "metadata": {
        "id": "77Wocn_jV-rf"
      }
    },
    {
      "cell_type": "code",
      "source": [
        "SELECT orders.order_id, customers.customer_name, products.product_name\n",
        "FROM products\n",
        "LEFT JOIN orders ON products.product_id = orders.product_id\n",
        "LEFT JOIN customers ON orders.customer_id = customers.customer_id;\n"
      ],
      "metadata": {
        "id": "ZSHgdDU8V_5L"
      },
      "execution_count": null,
      "outputs": []
    },
    {
      "cell_type": "markdown",
      "source": [
        "9."
      ],
      "metadata": {
        "id": "MiRtLMipWF6i"
      }
    },
    {
      "cell_type": "code",
      "source": [
        "SELECT products.product_name, SUM(sales.quantity * sales.price) AS total_sales\n",
        "FROM sales\n",
        "INNER JOIN products ON sales.product_id = products.product_id\n",
        "GROUP BY products.product_name;\n"
      ],
      "metadata": {
        "id": "8L5hskg5WG-_"
      },
      "execution_count": null,
      "outputs": []
    },
    {
      "cell_type": "markdown",
      "source": [
        "10."
      ],
      "metadata": {
        "id": "oy5DcYd-WI91"
      }
    },
    {
      "cell_type": "code",
      "source": [
        "SELECT orders.order_id, customers.customer_name, SUM(order_details.quantity) AS total_quantity\n",
        "FROM orders\n",
        "INNER JOIN customers ON orders.customer_id = customers.customer_id\n",
        "INNER JOIN order_details ON orders.order_id = order_details.order_id\n",
        "GROUP BY orders.order_id, customers.customer_name;\n"
      ],
      "metadata": {
        "id": "AUPBTUZbWJ1t"
      },
      "execution_count": null,
      "outputs": []
    },
    {
      "cell_type": "markdown",
      "source": [
        "# ***SQL*** **Commands**"
      ],
      "metadata": {
        "id": "CP5w-IXKWVWc"
      }
    },
    {
      "cell_type": "markdown",
      "source": [
        "1. Primary Key: A unique identifier for each record in a table.\n",
        "\n",
        "Foreign Key: A column that references a primary key in another table.\n",
        "\n",
        "Example:\n",
        "\n",
        "film(film_id PRIMARY KEY)\n",
        "\n",
        "inventory(film_id FOREIGN KEY REFERENCES film(film_id))"
      ],
      "metadata": {
        "id": "AyPyX4TbWc9c"
      }
    },
    {
      "cell_type": "code",
      "source": [
        "SELECT\n",
        "    CONSTRAINT_NAME, TABLE_NAME, COLUMN_NAME\n",
        "FROM information_schema.KEY_COLUMN_USAGE\n",
        "WHERE TABLE_SCHEMA = 'maven_movies';\n"
      ],
      "metadata": {
        "id": "ORYVA3SMWlk4"
      },
      "execution_count": null,
      "outputs": []
    },
    {
      "cell_type": "markdown",
      "source": [
        "2."
      ],
      "metadata": {
        "id": "3ZhHuCheWscU"
      }
    },
    {
      "cell_type": "code",
      "source": [
        "SELECT * FROM actor;\n"
      ],
      "metadata": {
        "id": "ZsRJa-7mWurk"
      },
      "execution_count": null,
      "outputs": []
    },
    {
      "cell_type": "markdown",
      "source": [
        "3."
      ],
      "metadata": {
        "id": "vhQ4bqLOWxK7"
      }
    },
    {
      "cell_type": "code",
      "source": [
        "SELECT * FROM customer;\n"
      ],
      "metadata": {
        "id": "Etb5YovGWxkF"
      },
      "execution_count": null,
      "outputs": []
    },
    {
      "cell_type": "markdown",
      "source": [
        "4."
      ],
      "metadata": {
        "id": "KNej-6IBW0zO"
      }
    },
    {
      "cell_type": "code",
      "source": [
        "SELECT DISTINCT country FROM country;\n"
      ],
      "metadata": {
        "id": "ok6C-MtXW1pE"
      },
      "execution_count": null,
      "outputs": []
    },
    {
      "cell_type": "markdown",
      "source": [
        "5."
      ],
      "metadata": {
        "id": "5jiZCgSvW4X1"
      }
    },
    {
      "cell_type": "code",
      "source": [
        "SELECT * FROM customer WHERE active = 1;\n"
      ],
      "metadata": {
        "id": "WUzIH6-fW5PS"
      },
      "execution_count": null,
      "outputs": []
    },
    {
      "cell_type": "markdown",
      "source": [
        "6."
      ],
      "metadata": {
        "id": "NUj0mJu8W6NC"
      }
    },
    {
      "cell_type": "code",
      "source": [
        "SELECT rental_id FROM rental WHERE customer_id = 1;\n"
      ],
      "metadata": {
        "id": "GpeM6n4bW64x"
      },
      "execution_count": null,
      "outputs": []
    },
    {
      "cell_type": "markdown",
      "source": [
        "7."
      ],
      "metadata": {
        "id": "4xv4fnM0W9c7"
      }
    },
    {
      "cell_type": "code",
      "source": [
        "SELECT * FROM film WHERE rental_duration > 5;\n"
      ],
      "metadata": {
        "id": "yAjJBXC3W-MI"
      },
      "execution_count": null,
      "outputs": []
    },
    {
      "cell_type": "markdown",
      "source": [
        "8."
      ],
      "metadata": {
        "id": "AmsZw5WvXCxn"
      }
    },
    {
      "cell_type": "code",
      "source": [
        "SELECT COUNT(*) FROM film WHERE replacement_cost BETWEEN 15 AND 20;\n"
      ],
      "metadata": {
        "id": "rI6XbQmTXDp3"
      },
      "execution_count": null,
      "outputs": []
    },
    {
      "cell_type": "markdown",
      "source": [
        "9."
      ],
      "metadata": {
        "id": "TugfL9zjXFc6"
      }
    },
    {
      "cell_type": "code",
      "source": [
        "SELECT COUNT(DISTINCT first_name) FROM actor;\n"
      ],
      "metadata": {
        "id": "Pei2jslhXGR6"
      },
      "execution_count": null,
      "outputs": []
    },
    {
      "cell_type": "markdown",
      "source": [
        "10."
      ],
      "metadata": {
        "id": "T4XOYgHYXIt6"
      }
    },
    {
      "cell_type": "code",
      "source": [
        "SELECT * FROM customer LIMIT 10;\n"
      ],
      "metadata": {
        "id": "tx4i9Ah9XKra"
      },
      "execution_count": null,
      "outputs": []
    },
    {
      "cell_type": "markdown",
      "source": [
        "11."
      ],
      "metadata": {
        "id": "a2MRy43EXNZ9"
      }
    },
    {
      "cell_type": "code",
      "source": [
        "SELECT * FROM customer WHERE first_name LIKE 'B%' LIMIT 3;\n"
      ],
      "metadata": {
        "id": "eaZzTKdKXOgN"
      },
      "execution_count": null,
      "outputs": []
    },
    {
      "cell_type": "markdown",
      "source": [
        "12."
      ],
      "metadata": {
        "id": "-l1QyFrYXRDC"
      }
    },
    {
      "cell_type": "code",
      "source": [
        "SELECT title FROM film WHERE rating = 'G' LIMIT 5;\n"
      ],
      "metadata": {
        "id": "ORxe3NCpXRxv"
      },
      "execution_count": null,
      "outputs": []
    },
    {
      "cell_type": "markdown",
      "source": [
        "13."
      ],
      "metadata": {
        "id": "6852sR2CXTtT"
      }
    },
    {
      "cell_type": "code",
      "source": [
        "SELECT * FROM customer WHERE first_name LIKE 'A%';\n"
      ],
      "metadata": {
        "id": "NTdYKGFwXU2j"
      },
      "execution_count": null,
      "outputs": []
    },
    {
      "cell_type": "markdown",
      "source": [
        "14."
      ],
      "metadata": {
        "id": "lbS4CHXcXW1J"
      }
    },
    {
      "cell_type": "code",
      "source": [
        "SELECT * FROM customer WHERE first_name LIKE '%A';\n"
      ],
      "metadata": {
        "id": "9cfVGLQuXX4j"
      },
      "execution_count": null,
      "outputs": []
    },
    {
      "cell_type": "markdown",
      "source": [
        "15."
      ],
      "metadata": {
        "id": "I2iRdN_8XcC_"
      }
    },
    {
      "cell_type": "code",
      "source": [
        "SELECT city FROM city WHERE city LIKE 'A%A' LIMIT 4;\n"
      ],
      "metadata": {
        "id": "Q2owT15oXdCP"
      },
      "execution_count": null,
      "outputs": []
    },
    {
      "cell_type": "markdown",
      "source": [
        "16."
      ],
      "metadata": {
        "id": "4BQeOdWGXh8b"
      }
    },
    {
      "cell_type": "code",
      "source": [
        "SELECT * FROM customer WHERE first_name LIKE '%NI%';\n"
      ],
      "metadata": {
        "id": "_z8VZf4_Xi1m"
      },
      "execution_count": null,
      "outputs": []
    },
    {
      "cell_type": "markdown",
      "source": [
        "17."
      ],
      "metadata": {
        "id": "foBWKa-NXkmn"
      }
    },
    {
      "cell_type": "code",
      "source": [
        "SELECT * FROM customer WHERE first_name LIKE '_R%';\n"
      ],
      "metadata": {
        "id": "rbJOc6a_XlgI"
      },
      "execution_count": null,
      "outputs": []
    },
    {
      "cell_type": "markdown",
      "source": [
        "18."
      ],
      "metadata": {
        "id": "wWIv0Ns1XnaV"
      }
    },
    {
      "cell_type": "code",
      "source": [
        "SELECT * FROM customer WHERE first_name LIKE 'A%' AND LENGTH(first_name) >= 5;\n"
      ],
      "metadata": {
        "id": "NUlSsWllXoqK"
      },
      "execution_count": null,
      "outputs": []
    },
    {
      "cell_type": "markdown",
      "source": [
        "19."
      ],
      "metadata": {
        "id": "bW2t2S6cXq9k"
      }
    },
    {
      "cell_type": "code",
      "source": [
        "SELECT * FROM customer WHERE first_name LIKE 'A%O';\n"
      ],
      "metadata": {
        "id": "IPGdBUj7XsGz"
      },
      "execution_count": null,
      "outputs": []
    },
    {
      "cell_type": "markdown",
      "source": [
        "20."
      ],
      "metadata": {
        "id": "xVaBwZ5BXt-U"
      }
    },
    {
      "cell_type": "code",
      "source": [
        "SELECT title FROM film WHERE rating IN ('PG', 'PG-13');\n"
      ],
      "metadata": {
        "id": "dAVhIRmKXwBv"
      },
      "execution_count": null,
      "outputs": []
    },
    {
      "cell_type": "markdown",
      "source": [
        "21."
      ],
      "metadata": {
        "id": "WE5KjXYCXzF4"
      }
    },
    {
      "cell_type": "code",
      "source": [
        "SELECT title FROM film WHERE length BETWEEN 50 AND 100;\n"
      ],
      "metadata": {
        "id": "AyOH-F5oX06l"
      },
      "execution_count": null,
      "outputs": []
    },
    {
      "cell_type": "markdown",
      "source": [
        "22."
      ],
      "metadata": {
        "id": "oZkNGPniX2_g"
      }
    },
    {
      "cell_type": "code",
      "source": [
        "SELECT * FROM actor LIMIT 50;\n"
      ],
      "metadata": {
        "id": "q9jA46BfX3y7"
      },
      "execution_count": null,
      "outputs": []
    },
    {
      "cell_type": "markdown",
      "source": [
        "23."
      ],
      "metadata": {
        "id": "P7bElPY7X57v"
      }
    },
    {
      "cell_type": "code",
      "source": [
        "SELECT DISTINCT film_id FROM inventory;\n"
      ],
      "metadata": {
        "id": "7hQtWlnKX65k"
      },
      "execution_count": null,
      "outputs": []
    },
    {
      "cell_type": "markdown",
      "source": [
        "# ***Functions***"
      ],
      "metadata": {
        "id": "EMHR2jG0X-Ti"
      }
    },
    {
      "cell_type": "markdown",
      "source": [
        "# Basic Aggregate Functions"
      ],
      "metadata": {
        "id": "6wt3z1Bdb1h6"
      }
    },
    {
      "cell_type": "markdown",
      "source": [
        "1."
      ],
      "metadata": {
        "id": "av0j_PF0bV6R"
      }
    },
    {
      "cell_type": "code",
      "source": [
        " SELECT COUNT(*) AS total_rentals FROM rental;\n"
      ],
      "metadata": {
        "id": "HV_CuNESYKM0"
      },
      "execution_count": null,
      "outputs": []
    },
    {
      "cell_type": "markdown",
      "source": [
        "2."
      ],
      "metadata": {
        "id": "v86-Kbz6bXCn"
      }
    },
    {
      "cell_type": "code",
      "source": [
        "SELECT AVG(rental_duration) AS avg_rental_days FROM film;\n"
      ],
      "metadata": {
        "id": "AWtXQ6utYNP_"
      },
      "execution_count": null,
      "outputs": []
    },
    {
      "cell_type": "markdown",
      "source": [
        "3."
      ],
      "metadata": {
        "id": "BugmxZmfbYNl"
      }
    },
    {
      "cell_type": "code",
      "source": [
        "SELECT UPPER(first_name) AS first_name, UPPER(last_name) AS last_name FROM customer;\n"
      ],
      "metadata": {
        "id": "_3Gy3SCSYSki"
      },
      "execution_count": null,
      "outputs": []
    },
    {
      "cell_type": "markdown",
      "source": [
        "4."
      ],
      "metadata": {
        "id": "5NkXMPqybZe7"
      }
    },
    {
      "cell_type": "code",
      "source": [
        "SELECT rental_id, MONTH(rental_date) AS rental_month FROM rental;\n"
      ],
      "metadata": {
        "id": "xB8xU5cZYWhv"
      },
      "execution_count": null,
      "outputs": []
    },
    {
      "cell_type": "markdown",
      "source": [
        "# Group By"
      ],
      "metadata": {
        "id": "JBQoZSSccJSr"
      }
    },
    {
      "cell_type": "markdown",
      "source": [
        "5."
      ],
      "metadata": {
        "id": "rhbge1umbaf4"
      }
    },
    {
      "cell_type": "code",
      "source": [
        "SELECT customer_id, COUNT(rental_id) AS rental_count\n",
        "FROM rental\n",
        "GROUP BY customer_id;\n"
      ],
      "metadata": {
        "id": "zS0u6t6AYajm"
      },
      "execution_count": null,
      "outputs": []
    },
    {
      "cell_type": "markdown",
      "source": [
        "6."
      ],
      "metadata": {
        "id": "o4418FnNbbVC"
      }
    },
    {
      "cell_type": "code",
      "source": [
        "SELECT store_id, SUM(amount) AS total_revenue\n",
        "FROM payment\n",
        "GROUP BY store_id;\n"
      ],
      "metadata": {
        "id": "Tt1DsZSwYfb7"
      },
      "execution_count": null,
      "outputs": []
    },
    {
      "cell_type": "markdown",
      "source": [
        "7."
      ],
      "metadata": {
        "id": "_z8qax1NbcRh"
      }
    },
    {
      "cell_type": "code",
      "source": [
        "SELECT category.name AS category_name, COUNT(rental.rental_id) AS total_rentals\n",
        "FROM rental\n",
        "JOIN inventory ON rental.inventory_id = inventory.inventory_id\n",
        "JOIN film ON inventory.film_id = film.film_id\n",
        "JOIN film_category ON film.film_id = film_category.film_id\n",
        "JOIN category ON film_category.category_id = category.category_id\n",
        "GROUP BY category.name;\n"
      ],
      "metadata": {
        "id": "kLRh7WYaYl7S"
      },
      "execution_count": null,
      "outputs": []
    },
    {
      "cell_type": "markdown",
      "source": [
        "8."
      ],
      "metadata": {
        "id": "LuKKHO2_bdVz"
      }
    },
    {
      "cell_type": "code",
      "source": [
        "SELECT language.name AS language, AVG(film.rental_rate) AS avg_rental_rate\n",
        "FROM film\n",
        "JOIN language ON film.language_id = language.language_id\n",
        "GROUP BY language.name;\n"
      ],
      "metadata": {
        "id": "y2ClroM6YqEb"
      },
      "execution_count": null,
      "outputs": []
    },
    {
      "cell_type": "markdown",
      "source": [
        "# Joins"
      ],
      "metadata": {
        "id": "ZgPK0FwjcS_m"
      }
    },
    {
      "cell_type": "markdown",
      "source": [
        "9."
      ],
      "metadata": {
        "id": "k_DoeQZubeXr"
      }
    },
    {
      "cell_type": "code",
      "source": [
        "SELECT film.title, customer.first_name, customer.last_name\n",
        "FROM rental\n",
        "JOIN inventory ON rental.inventory_id = inventory.inventory_id\n",
        "JOIN film ON inventory.film_id = film.film_id\n",
        "JOIN customer ON rental.customer_id = customer.customer_id;\n"
      ],
      "metadata": {
        "id": "961vXxpXYt72"
      },
      "execution_count": null,
      "outputs": []
    },
    {
      "cell_type": "markdown",
      "source": [
        "10."
      ],
      "metadata": {
        "id": "0RQ2LxLxbfbf"
      }
    },
    {
      "cell_type": "code",
      "source": [
        "SELECT actor.first_name, actor.last_name\n",
        "FROM actor\n",
        "JOIN film_actor ON actor.actor_id = film_actor.actor_id\n",
        "JOIN film ON film_actor.film_id = film.film_id\n",
        "WHERE film.title = 'Gone with the Wind';\n"
      ],
      "metadata": {
        "id": "jE9N9a5QYzb9"
      },
      "execution_count": null,
      "outputs": []
    },
    {
      "cell_type": "markdown",
      "source": [
        "11."
      ],
      "metadata": {
        "id": "FZAHg7Wqbg2j"
      }
    },
    {
      "cell_type": "code",
      "source": [
        "SELECT customer.first_name, customer.last_name, SUM(payment.amount) AS total_spent\n",
        "FROM customer\n",
        "JOIN payment ON customer.customer_id = payment.customer_id\n",
        "GROUP BY customer.customer_id;\n"
      ],
      "metadata": {
        "id": "knhyY6UnY5fT"
      },
      "execution_count": null,
      "outputs": []
    },
    {
      "cell_type": "markdown",
      "source": [
        "12."
      ],
      "metadata": {
        "id": "FtnidGTFbiD1"
      }
    },
    {
      "cell_type": "code",
      "source": [
        "SELECT film.title, customer.first_name, customer.last_name\n",
        "FROM rental\n",
        "JOIN inventory ON rental.inventory_id = inventory.inventory_id\n",
        "JOIN film ON inventory.film_id = film.film_id\n",
        "JOIN customer ON rental.customer_id = customer.customer_id\n",
        "JOIN address ON customer.address_id = address.address_id\n",
        "JOIN city ON address.city_id = city.city_id\n",
        "WHERE city.city = 'London'\n",
        "GROUP BY film.title, customer.first_name, customer.last_name;\n"
      ],
      "metadata": {
        "id": "B6ZBGmBRY9Db"
      },
      "execution_count": null,
      "outputs": []
    },
    {
      "cell_type": "markdown",
      "source": [
        "# Advanced Joins and GROUP BY"
      ],
      "metadata": {
        "id": "EZr-MwuPcZAx"
      }
    },
    {
      "cell_type": "markdown",
      "source": [
        "13."
      ],
      "metadata": {
        "id": "B2IiAGgobi_h"
      }
    },
    {
      "cell_type": "code",
      "source": [
        "SELECT film.title, COUNT(rental.rental_id) AS rental_count\n",
        "FROM rental\n",
        "JOIN inventory ON rental.inventory_id = inventory.inventory_id\n",
        "JOIN film ON inventory.film_id = film.film_id\n",
        "GROUP BY film.title\n",
        "ORDER BY rental_count DESC\n",
        "LIMIT 5;\n"
      ],
      "metadata": {
        "id": "-zxx6K27ZBkl"
      },
      "execution_count": null,
      "outputs": []
    },
    {
      "cell_type": "markdown",
      "source": [
        "14."
      ],
      "metadata": {
        "id": "264gGKPebkQv"
      }
    },
    {
      "cell_type": "code",
      "source": [
        "SELECT customer.first_name, customer.last_name\n",
        "FROM rental\n",
        "JOIN customer ON rental.customer_id = customer.customer_id\n",
        "JOIN inventory ON rental.inventory_id = inventory.inventory_id\n",
        "WHERE inventory.store_id IN (1,2)\n",
        "GROUP BY customer.customer_id\n",
        "HAVING COUNT(DISTINCT inventory.store_id) = 2;\n"
      ],
      "metadata": {
        "id": "IgSc4u33ZGrm"
      },
      "execution_count": null,
      "outputs": []
    },
    {
      "cell_type": "markdown",
      "source": [
        "# ***Windows*** ***Function***"
      ],
      "metadata": {
        "id": "Zw4QAQb1ZMy5"
      }
    },
    {
      "cell_type": "markdown",
      "source": [
        "1."
      ],
      "metadata": {
        "id": "PgtvILi-Ze3-"
      }
    },
    {
      "cell_type": "code",
      "source": [
        "SELECT customer_id, first_name, last_name,\n",
        "       SUM(amount) AS total_spent,\n",
        "       RANK() OVER (ORDER BY SUM(amount) DESC) AS spending_rank\n",
        "FROM customer\n",
        "JOIN payment ON customer.customer_id = payment.customer_id\n",
        "GROUP BY customer_id;\n"
      ],
      "metadata": {
        "id": "uwRsFJa5Zfwv"
      },
      "execution_count": null,
      "outputs": []
    },
    {
      "cell_type": "markdown",
      "source": [
        "2."
      ],
      "metadata": {
        "id": "CgrTJXv5ZhLY"
      }
    },
    {
      "cell_type": "code",
      "source": [
        "SELECT film.title, payment.payment_date,\n",
        "       SUM(payment.amount) OVER (PARTITION BY film.film_id ORDER BY payment.payment_date) AS cumulative_revenue\n",
        "FROM payment\n",
        "JOIN rental ON payment.rental_id = rental.rental_id\n",
        "JOIN inventory ON rental.inventory_id = inventory.inventory_id\n",
        "JOIN film ON inventory.film_id = film.film_id;\n"
      ],
      "metadata": {
        "id": "lrabdSYXZh_j"
      },
      "execution_count": null,
      "outputs": []
    },
    {
      "cell_type": "markdown",
      "source": [
        "3."
      ],
      "metadata": {
        "id": "ubPqOcS4ZkAj"
      }
    },
    {
      "cell_type": "code",
      "source": [
        "SELECT film_id, title, length,\n",
        "       AVG(rental_duration) OVER (PARTITION BY length) AS avg_rental_duration\n",
        "FROM film;\n"
      ],
      "metadata": {
        "id": "Vsp6WI8YZk3j"
      },
      "execution_count": null,
      "outputs": []
    },
    {
      "cell_type": "markdown",
      "source": [
        "4."
      ],
      "metadata": {
        "id": "9N3NonHOZoal"
      }
    },
    {
      "cell_type": "code",
      "source": [
        "SELECT category.name AS category_name, film.title,\n",
        "       COUNT(rental.rental_id) AS rental_count,\n",
        "       RANK() OVER (PARTITION BY category.name ORDER BY COUNT(rental.rental_id) DESC) AS rank\n",
        "FROM rental\n",
        "JOIN inventory ON rental.inventory_id = inventory.inventory_id\n",
        "JOIN film ON inventory.film_id = film.film_id\n",
        "JOIN film_category ON film.film_id = film_category.film_id\n",
        "JOIN category ON film_category.category_id = category.category_id\n",
        "GROUP BY category.name, film.title;\n"
      ],
      "metadata": {
        "id": "t5iFKlooZpQ2"
      },
      "execution_count": null,
      "outputs": []
    },
    {
      "cell_type": "markdown",
      "source": [
        "5."
      ],
      "metadata": {
        "id": "KZuHNyMbZuZO"
      }
    },
    {
      "cell_type": "code",
      "source": [
        "SELECT MONTH(payment_date) AS month,\n",
        "       SUM(amount) AS monthly_revenue,\n",
        "       SUM(SUM(amount)) OVER (ORDER BY MONTH(payment_date)) AS running_total\n",
        "FROM payment\n",
        "GROUP BY MONTH(payment_date);\n"
      ],
      "metadata": {
        "id": "yzJNXQo0Zv2X"
      },
      "execution_count": null,
      "outputs": []
    },
    {
      "cell_type": "markdown",
      "source": [
        "6."
      ],
      "metadata": {
        "id": "9wh0yAfJZy4k"
      }
    },
    {
      "cell_type": "code",
      "source": [
        "SELECT customer_id, first_name, last_name,\n",
        "       SUM(amount) AS total_spent\n",
        "FROM customer\n",
        "JOIN payment ON customer.customer_id = payment.customer_id\n",
        "GROUP BY customer_id\n",
        "HAVING SUM(amount) >= (SELECT PERCENTILE_CONT(0.8) WITHIN GROUP (ORDER BY SUM(amount)) FROM payment);\n"
      ],
      "metadata": {
        "id": "U40MLOjnZzy4"
      },
      "execution_count": null,
      "outputs": []
    },
    {
      "cell_type": "markdown",
      "source": [
        "7."
      ],
      "metadata": {
        "id": "3eiJe4VUZ2vn"
      }
    },
    {
      "cell_type": "code",
      "source": [
        "SELECT category.name, COUNT(rental.rental_id) AS rental_count,\n",
        "       SUM(COUNT(rental.rental_id)) OVER (PARTITION BY category.name ORDER BY COUNT(rental.rental_id)) AS running_total\n",
        "FROM rental\n",
        "JOIN inventory ON rental.inventory_id = inventory.inventory_id\n",
        "JOIN film ON inventory.film_id = film.film_id\n",
        "JOIN film_category ON film.film_id = film_category.film_id\n",
        "JOIN category ON film_category.category_id = category.category_id\n",
        "GROUP BY category.name;\n"
      ],
      "metadata": {
        "id": "irxzlBjcZ4Kw"
      },
      "execution_count": null,
      "outputs": []
    },
    {
      "cell_type": "markdown",
      "source": [
        "8."
      ],
      "metadata": {
        "id": "x117ilCgZ6qM"
      }
    },
    {
      "cell_type": "code",
      "source": [
        "SELECT film.title, COUNT(rental.rental_id) AS rental_count\n",
        "FROM rental\n",
        "JOIN inventory ON rental.inventory_id = inventory.inventory_id\n",
        "JOIN film ON inventory.film_id = film.film_id\n",
        "JOIN film_category ON film.film_id = film_category.film_id\n",
        "GROUP BY film.title\n",
        "HAVING COUNT(rental.rental_id) <\n",
        "      (SELECT AVG(rental_count) FROM\n",
        "       (SELECT COUNT(rental.rental_id) AS rental_count FROM rental\n",
        "        JOIN inventory ON rental.inventory_id = inventory.inventory_id\n",
        "        JOIN film ON inventory.film_id = film.film_id\n",
        "        GROUP BY film.film_id) AS avg_rentals);\n"
      ],
      "metadata": {
        "id": "Idf9ct4WZ7YG"
      },
      "execution_count": null,
      "outputs": []
    },
    {
      "cell_type": "markdown",
      "source": [
        "9."
      ],
      "metadata": {
        "id": "J7fBbVnHZ--S"
      }
    },
    {
      "cell_type": "code",
      "source": [
        "SELECT MONTH(payment_date) AS month, SUM(amount) AS revenue\n",
        "FROM payment\n",
        "GROUP BY MONTH(payment_date)\n",
        "ORDER BY revenue DESC\n",
        "LIMIT 5;\n"
      ],
      "metadata": {
        "id": "O4mifzu_Z_wx"
      },
      "execution_count": null,
      "outputs": []
    },
    {
      "cell_type": "markdown",
      "source": [
        "10."
      ],
      "metadata": {
        "id": "rQG2TnMraCV4"
      }
    },
    {
      "cell_type": "code",
      "source": [
        "SELECT customer_id, first_name, last_name,\n",
        "       COUNT(rental_id) AS total_rentals,\n",
        "       COUNT(rental_id) - (SELECT AVG(total_rentals) FROM\n",
        "                           (SELECT customer_id, COUNT(rental_id) AS total_rentals FROM rental GROUP BY customer_id) AS avg_rentals)\n",
        "       AS rental_difference\n",
        "FROM customer\n",
        "JOIN rental ON customer.customer_id = rental.customer_id\n",
        "GROUP BY customer_id;\n"
      ],
      "metadata": {
        "id": "NEQQBhnOaDhx"
      },
      "execution_count": null,
      "outputs": []
    },
    {
      "cell_type": "markdown",
      "source": [
        "# ***Normalisation*** & ***CTE***"
      ],
      "metadata": {
        "id": "KH2rVdy6aM4-"
      }
    },
    {
      "cell_type": "markdown",
      "source": [
        "5."
      ],
      "metadata": {
        "id": "TZS-EECxagce"
      }
    },
    {
      "cell_type": "code",
      "source": [
        "WITH ActorFilmCount AS (\n",
        "    SELECT actor.actor_id, actor.first_name, actor.last_name, COUNT(film_actor.film_id) AS film_count\n",
        "    FROM actor\n",
        "    JOIN film_actor ON actor.actor_id = film_actor.actor_id\n",
        "    GROUP BY actor.actor_id\n",
        ")\n",
        "SELECT * FROM ActorFilmCount;\n"
      ],
      "metadata": {
        "id": "ATafQywSaf7G"
      },
      "execution_count": null,
      "outputs": []
    },
    {
      "cell_type": "markdown",
      "source": [
        "6."
      ],
      "metadata": {
        "id": "apXZmhIQam0V"
      }
    },
    {
      "cell_type": "code",
      "source": [
        "WITH FilmLanguage AS (\n",
        "    SELECT film.title, language.name AS language, film.rental_rate\n",
        "    FROM film\n",
        "    JOIN language ON film.language_id = language.language_id\n",
        ")\n",
        "SELECT * FROM FilmLanguage;\n"
      ],
      "metadata": {
        "id": "L962_PkJanrC"
      },
      "execution_count": null,
      "outputs": []
    },
    {
      "cell_type": "markdown",
      "source": [
        "7."
      ],
      "metadata": {
        "id": "DIQjkuHVaqqR"
      }
    },
    {
      "cell_type": "code",
      "source": [
        "WITH CustomerRevenue AS (\n",
        "    SELECT customer_id, SUM(amount) AS total_revenue\n",
        "    FROM payment\n",
        "    GROUP BY customer_id\n",
        ")\n",
        "SELECT * FROM CustomerRevenue;\n"
      ],
      "metadata": {
        "id": "uLbYZwaHaruS"
      },
      "execution_count": null,
      "outputs": []
    },
    {
      "cell_type": "markdown",
      "source": [
        "8."
      ],
      "metadata": {
        "id": "qaPnwb23ayDO"
      }
    },
    {
      "cell_type": "code",
      "source": [
        "WITH FilmRanking AS (\n",
        "    SELECT film_id, title, rental_duration,\n",
        "           RANK() OVER (ORDER BY rental_duration DESC) AS rank\n",
        "    FROM film\n",
        ")\n",
        "SELECT * FROM FilmRanking;\n"
      ],
      "metadata": {
        "id": "Ry-yr03pay2a"
      },
      "execution_count": null,
      "outputs": []
    },
    {
      "cell_type": "markdown",
      "source": [
        "9."
      ],
      "metadata": {
        "id": "TSQeDUjya3T-"
      }
    },
    {
      "cell_type": "code",
      "source": [
        "WITH FrequentCustomers AS (\n",
        "    SELECT customer_id, COUNT(rental_id) AS total_rentals\n",
        "    FROM rental\n",
        "    GROUP BY customer_id\n",
        "    HAVING COUNT(rental_id) > 2\n",
        ")\n",
        "SELECT customer.first_name, customer.last_name, total_rentals\n",
        "FROM FrequentCustomers\n",
        "JOIN customer ON FrequentCustomers.customer_id = customer.customer_id;\n"
      ],
      "metadata": {
        "id": "G8e2bAQQa4T7"
      },
      "execution_count": null,
      "outputs": []
    },
    {
      "cell_type": "markdown",
      "source": [
        "10."
      ],
      "metadata": {
        "id": "GgPC6-iWa-QW"
      }
    },
    {
      "cell_type": "code",
      "source": [
        "WITH MonthlyRentals AS (\n",
        "    SELECT MONTH(rental_date) AS month, COUNT(*) AS total_rentals\n",
        "    FROM rental\n",
        "    GROUP BY MONTH(rental_date)\n",
        ")\n",
        "SELECT * FROM MonthlyRentals;\n"
      ],
      "metadata": {
        "id": "-Tnbg-ILa_c1"
      },
      "execution_count": null,
      "outputs": []
    },
    {
      "cell_type": "markdown",
      "source": [
        "11."
      ],
      "metadata": {
        "id": "55mK8ynBbHHn"
      }
    },
    {
      "cell_type": "code",
      "source": [
        "WITH ActorPairs AS (\n",
        "    SELECT fa1.actor_id AS actor1, fa2.actor_id AS actor2, film_id\n",
        "    FROM film_actor fa1\n",
        "    JOIN film_actor fa2 ON fa1.film_id = fa2.film_id AND fa1.actor_id < fa2.actor_id\n",
        ")\n",
        "SELECT a1.first_name AS actor1, a2.first_name AS actor2, film.title\n",
        "FROM ActorPairs\n",
        "JOIN actor a1 ON ActorPairs.actor1 = a1.actor_id\n",
        "JOIN actor a2 ON ActorPairs.actor2 = a2.actor_id\n",
        "JOIN film ON ActorPairs.film_id = film.film_id;\n"
      ],
      "metadata": {
        "id": "ltRt89UAbIDb"
      },
      "execution_count": null,
      "outputs": []
    }
  ]
}